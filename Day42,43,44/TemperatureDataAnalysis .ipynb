{
 "cells": [
  {
   "cell_type": "code",
   "execution_count": null,
   "id": "60390de2",
   "metadata": {},
   "outputs": [],
   "source": [
    "import numpy as np\n",
    "\n",
    "\n",
    "temperatures = np.random.uniform(-5, 40, 30).round(1)  \n",
    "print(\"Temperatures (°C):\\n\", temperatures)\n",
    "\n",
    "frosty_days = temperatures[temperatures < 0]\n",
    "print(\"\\nFrosty Days (< 0°C):\\n\", frosty_days)\n",
    "\n",
    "\n",
    "categories = np.where(temperatures < 10, \"Cold\",\n",
    "             np.where(temperatures <= 25, \"Moderate\", \"Hot\"))\n",
    "print(\"\\nTemperature Categories:\\n\", categories)\n",
    "\n",
    "max_index = np.argmax(temperatures)\n",
    "min_index = np.argmin(temperatures)\n",
    "print(f\"\\nHighest Temp: {temperatures[max_index]}°C on Day {max_index + 1}\")\n",
    "print(f\"Lowest Temp: {temperatures[min_index]}°C on Day {min_index + 1}\")\n",
    "\n",
    "sorted_temperatures = np.sort(temperatures)\n",
    "print(\"\\nSorted Temperatures:\\n\", sorted_temperatures)\n",
    "\n",
    "\n",
    "hot_days = np.any(temperatures > 35)\n",
    "print(\"\\nAny day > 35°C?:\", hot_days)\n",
    "\n",
    "week1 = temperatures[:7]\n",
    "print(\"\\nWeek 1 Temperatures:\\n\", week1)\n",
    "\n",
    "position_15 = np.searchsorted(sorted_temperatures, 15)\n",
    "print(\"\\n15°C would fit at position (0-indexed):\", position_15)\n",
    "\n",
    "\n",
    "unique_temps = np.unique(temperatures)\n",
    "print(\"\\nUnique Temperatures:\\n\", unique_temps)\n",
    "print(\"Number of distinct temperatures:\", unique_temps.size)\n"
   ]
  }
 ],
 "metadata": {
  "language_info": {
   "name": "python"
  }
 },
 "nbformat": 4,
 "nbformat_minor": 5
}
