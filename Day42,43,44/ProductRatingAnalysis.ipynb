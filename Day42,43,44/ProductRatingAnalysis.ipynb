{
 "cells": [
  {
   "cell_type": "code",
   "execution_count": null,
   "id": "a3f9f899",
   "metadata": {},
   "outputs": [],
   "source": [
    "import numpy as np\n",
    "\n",
    "# Step 1: Create a 1D NumPy array of 50 random ratings between 1 and 5\n",
    "ratings = np.random.randint(1, 6, size=50)  # 1 to 5 inclusive\n",
    "print(\"Product Ratings:\\n\", ratings)\n",
    "\n",
    "# Step 2: Boolean masking to find high-rated products (rating > 3)\n",
    "high_rated = ratings[ratings > 3]\n",
    "print(\"\\nHigh-rated Products (Rating > 3):\\n\", high_rated)\n",
    "\n",
    "# Step 3: Categorize using np.select()\n",
    "conditions = [\n",
    "    (ratings <= 2),\n",
    "    (ratings == 3),\n",
    "    (ratings >= 4)\n",
    "]\n",
    "choices = [\"Low Rating\", \"Medium Rating\", \"High Rating\"]\n",
    "rating_categories = np.select(conditions, choices)\n",
    "print(\"\\nRating Categories:\\n\", rating_categories)\n",
    "\n",
    "# Step 4: Find index of highest-rated product\n",
    "highest_index = np.argmax(ratings)\n",
    "print(f\"\\nHighest Rating: {ratings[highest_index]} (Product Index: {highest_index})\")\n",
    "\n",
    "# Step 5: Sort ratings in descending order\n",
    "sorted_desc = np.sort(ratings)[::-1]\n",
    "print(\"\\nSorted Ratings (Descending):\\n\", sorted_desc)\n",
    "\n",
    "# Step 6: Check if any rating is 1\n",
    "has_rating_1 = np.any(ratings == 1)\n",
    "print(\"\\nAny product with rating 1?:\", has_rating_1)\n",
    "\n",
    "# Step 7: Fancy indexing to get last 10 ratings\n",
    "last_10_ratings = ratings[-10:]\n",
    "print(\"\\nLast 10 Product Ratings:\\n\", last_10_ratings)\n",
    "\n",
    "# Step 8: Use np.searchsorted to find where rating 3.5 fits (in ascending sorted array)\n",
    "sorted_asc = np.sort(ratings)\n",
    "insert_pos = np.searchsorted(sorted_asc, 3.5)\n",
    "print(\"\\nRating 3.5 would fit at position (0-indexed):\", insert_pos)\n"
   ]
  }
 ],
 "metadata": {
  "language_info": {
   "name": "python"
  }
 },
 "nbformat": 4,
 "nbformat_minor": 5
}
