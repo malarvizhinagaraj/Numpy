{
 "cells": [
  {
   "cell_type": "code",
   "execution_count": null,
   "id": "66c44e75",
   "metadata": {},
   "outputs": [],
   "source": [
    "import numpy as np\n",
    "\n",
    "\n",
    "weather_data = np.random.rand(5, 7, 3) * np.array([40, 100, 20]) \n",
    "\n",
    "print(\"Original weather_data shape:\", weather_data.shape)  \n",
    "\n",
    "\n",
    "city1 = weather_data[0] \n",
    "city2 = weather_data[1] \n",
    "\n",
    "combined_city = np.hstack((city1, city2))\n",
    "\n",
    "\n",
    "weather_data_combined = np.hstack((weather_data, weather_data))  \n",
    "print(\"Shape after horizontal stacking:\", weather_data_combined.shape)\n",
    "\n",
    "\n",
    "transposed_weather = np.transpose(weather_data, (1, 0, 2))\n",
    "print(\"Shape after transposing (cities <-> days):\", transposed_weather.shape)\n",
    "\n",
    "city_chunks = np.array_split(weather_data, 5, axis=0)\n",
    "\n",
    "print(\"\\nIndividual city data shapes:\")\n",
    "for i, chunk in enumerate(city_chunks):\n",
    "    print(f\"City {i+1}: {chunk.shape}\")  "
   ]
  }
 ],
 "metadata": {
  "language_info": {
   "name": "python"
  }
 },
 "nbformat": 4,
 "nbformat_minor": 5
}
