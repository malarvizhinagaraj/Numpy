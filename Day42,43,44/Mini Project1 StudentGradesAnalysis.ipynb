{
 "cells": [
  {
   "cell_type": "code",
   "execution_count": null,
   "id": "1d5ec960",
   "metadata": {},
   "outputs": [],
   "source": [
    "import numpy as np\n",
    "\n",
    "#Create a 3D NumPy array\n",
    "\n",
    "grades = np.random.randint(40, 101, size=(6, 4, 3))\n",
    "print(\"Grades array (shape 6x4x3):\\n\", grades)\n",
    "\n",
    "#  Use np.vstack() to combine the grades of two students\n",
    "# Let's combine student 1 and student 2 (index 0 and 1)\n",
    "combined_students = np.vstack((grades[0], grades[1]))\n",
    "print(\"\\nCombined grades of Student 1 and 2 (shape 8x3):\\n\", combined_students)\n",
    "\n",
    "# Transpose grades so that terms come first and students come last\n",
    "# Original: (students, terms, subjects) → (terms, subjects, students)\n",
    "transposed = np.transpose(grades, (1, 2, 0))\n",
    "print(\"\\nTransposed (terms first, students last) (shape 4x3x6):\\n\", transposed)\n",
    "\n",
    "# Split the grades array by subject\n",
    "# We'll split along axis=2 (subjects axis), into 3 arrays for Math, Science, English\n",
    "subject_splits = np.split(grades, 3, axis=2)\n",
    "subjects = ['Math', 'Science', 'English']\n",
    "for i, subject in enumerate(subject_splits):\n",
    "    print(f\"\\nGrades for {subjects[i]} (shape 6x4x1):\\n\", subject.squeeze())\n",
    "\n",
    "#  Use np.swapaxes() to swap terms and subjects axes\n",
    "# Original: (students, terms, subjects) → swap axis 1 and 2 → (students, subjects, terms)\n",
    "swapped = np.swapaxes(grades, 1, 2)\n",
    "print(\"\\nSwapped axes (subjects and terms) (shape 6x3x4):\\n\", swapped)\n",
    "\n",
    "# Extract grades for 3rd student (index 2) in Science (index 1) for all terms\n",
    "student_index = 2\n",
    "subject_index = 1  # Science\n",
    "science_grades = grades[student_index, :, subject_index]\n",
    "print(f\"\\nGrades for Student 3 in Science across 4 terms:\\n\", science_grades)\n"
   ]
  }
 ],
 "metadata": {
  "language_info": {
   "name": "python"
  }
 },
 "nbformat": 4,
 "nbformat_minor": 5
}
