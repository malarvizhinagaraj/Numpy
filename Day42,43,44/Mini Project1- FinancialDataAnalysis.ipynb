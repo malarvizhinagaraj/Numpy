{
 "cells": [
  {
   "cell_type": "code",
   "execution_count": null,
   "id": "15ade101",
   "metadata": {},
   "outputs": [
    {
     "name": "stdout",
     "output_type": "stream",
     "text": [
      "Stock Prices:\n",
      " [[272 147 217 292 423 351 295 459 109 311 377 342]\n",
      " [392 187 170 188 496 414 293 139 187 274 188 437]\n",
      " [265 125 433 172 365 215 343 297 435 438 199 277]\n",
      " [343 385 247 247 498 388 365 285 227 132 131 302]\n",
      " [344 251 263 470 283 128 390 228 228 153 489 138]]\n",
      "\n",
      "Percentage Change in Stock Prices:\n",
      " [[  0.         -45.95588235  47.61904762  34.56221198  44.8630137\n",
      "  -17.0212766  -15.95441595  55.59322034 -76.25272331 185.32110092\n",
      "   21.22186495  -9.28381963]\n",
      " [  0.         -52.29591837  -9.09090909  10.58823529 163.82978723\n",
      "  -16.53225806 -29.22705314 -52.55972696  34.5323741   46.52406417\n",
      "  -31.38686131 132.44680851]\n",
      " [  0.         -52.83018868 246.4        -60.27713626 112.20930233\n",
      "  -41.09589041  59.53488372 -13.41107872  46.46464646   0.68965517\n",
      "  -54.56621005  39.1959799 ]\n",
      " [  0.          12.24489796 -35.84415584   0.         101.6194332\n",
      "  -22.08835341  -5.92783505 -21.91780822 -20.35087719 -41.85022026\n",
      "   -0.75757576 130.53435115]\n",
      " [  0.         -27.03488372   4.78087649  78.70722433 -39.78723404\n",
      "  -54.77031802 204.6875     -41.53846154   0.         -32.89473684\n",
      "  219.60784314 -71.7791411 ]]\n"
     ]
    }
   ],
   "source": [
    "import numpy as np\n",
    "\n",
    "#Steps:\n",
    "#1. DataRepresentation:\n",
    "#a. Create a 5x12 array representing the stock prices (in USD) for 5 stocks over 12 months (columns represent months, rows represent stocks).\n",
    "#b. You can randomly generate the data using np.random.randint() to simulate stock prices between 100 and 500 USD.\n",
    "\n",
    "np.random.seed(0)\n",
    "stock_prices=np.random.randint(100,501,size=(5, 12))\n",
    "print(\"Stock Prices:\\n\", stock_prices)\n",
    "\n",
    "\n",
    "#2. Element-wiseOperations:\n",
    "#a. Calculate the percentage change in stock prices from one month to the next for each stock using element-wise subtraction and division.\n",
    "percentage_change = np.zeros_like(stock_prices, dtype=float)\n",
    "percentage_change[:, 1:] = (stock_prices[:, 1:] - stock_prices[:, :-1]) / stock_prices[:, :-1] * 100\n",
    "print(\"\\nPercentage Change in Stock Prices:\\n\", percentage_change)\n",
    "\n",
    "#3. Broadcasting:\n",
    "#a. Subtracttheaveragestockpriceacrossallmonths(row-wise)from\n",
    "#each stock's price (broadcast the mean to all elements).\n",
    "row_mean = np.mean(stock_prices, axis=1, keepdims=True)\n",
    "normalized = stock_prices - row_mean\n",
    "print(\"\\n📉 Normalized Prices:\\n\", np.round(normalized, 2))\n",
    "#4. UniversalFunctions(ufunc):\n",
    "#a. Usenp.sqrt()tocalculatethevolatility(standarddeviation)ofstock prices for each stock (apply to each row).\n",
    "#b. Use np.exp() to simulate price growth over time for each stock.\n",
    "#c. Apply np.log10() to determine the logarithmic scale of stock prices\n",
    "#over time.\n",
    "volatility = np.std(stock_prices, axis=1)\n",
    "print(\"\\n📈 Volatility (Std Dev):\\n\", np.round(volatility, 2))\n",
    "#5. AggregationFunctions:\n",
    "#a. Computethemeanandmedianstockpriceacrossallmonthsfor each stock using np.mean() and np.median().\n",
    "#b. Find the maximum and minimum stock price across all months for each stock using np.max() and np.min().\n",
    "#c. Calculate the variance and standard deviation to analyze price fluctuations across the months for each stock.\n",
    "mean = np.mean(stock_prices, axis=1)\n",
    "median = np.median(stock_prices, axis=1)\n",
    "max_val = np.max(stock_prices, axis=1)\n",
    "min_val = np.min(stock_prices, axis=1)\n",
    "\n",
    "print(\"\\n📌 Summary Stats:\")\n",
    "print(\"Average Price:\", np.round(mean, 2))\n",
    "print(\"Median Price:\", median)\n",
    "print(\"Max Price:\", max_val)\n",
    "print(\"Min Price:\", min_val)\n"
   ]
  },
  {
   "cell_type": "code",
   "execution_count": null,
   "id": "5ef34ef3",
   "metadata": {},
   "outputs": [],
   "source": []
  }
 ],
 "metadata": {
  "kernelspec": {
   "display_name": "Python 3",
   "language": "python",
   "name": "python3"
  },
  "language_info": {
   "codemirror_mode": {
    "name": "ipython",
    "version": 3
   },
   "file_extension": ".py",
   "mimetype": "text/x-python",
   "name": "python",
   "nbconvert_exporter": "python",
   "pygments_lexer": "ipython3",
   "version": "3.13.0"
  }
 },
 "nbformat": 4,
 "nbformat_minor": 5
}
