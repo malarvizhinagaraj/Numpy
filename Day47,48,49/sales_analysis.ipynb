{
 "cells": [
  {
   "cell_type": "code",
   "execution_count": null,
   "id": "654d2136",
   "metadata": {
    "vscode": {
     "languageId": "plaintext"
    }
   },
   "outputs": [],
   "source": [
    "# Step 1: Import pandas and load CSV\n",
    "import pandas as pd\n",
    "\n",
    "# Replace 'sales_data.csv' with your actual file name\n",
    "df = pd.read_csv('sales_data.csv')\n",
    "\n",
    "# Step 2: Display first and last 5 rows\n",
    "print(\"First 5 Rows:\\n\", df.head())\n",
    "print(\"\\nLast 5 Rows:\\n\", df.tail())\n",
    "\n",
    "# Step 3: Column names and datatypes\n",
    "print(\"\\nColumn Names:\\n\", df.columns)\n",
    "print(\"\\nData Types:\\n\", df.dtypes)\n",
    "\n",
    "# Step 4: Shape, missing values, summary stats\n",
    "print(\"\\nShape of dataset:\", df.shape)\n",
    "print(\"\\nMissing Values:\\n\", df.isnull().sum())\n",
    "print(\"\\nSummary Statistics:\\n\", df.describe())\n",
    "\n",
    "# Step 5: Filter sales > ₹10,000\n",
    "high_sales = df[df['Revenue'] > 10000]\n",
    "print(\"\\nSales above ₹10,000:\\n\", high_sales)\n",
    "\n",
    "# Step 6: Add Profit Margin column\n",
    "df['Profit Margin'] = ((df['Revenue'] - df['Cost Price']) / df['Revenue']) * 100\n",
    "print(\"\\nData with Profit Margin:\\n\", df.head())\n",
    "\n",
    "# Step 7: Top selling product based on revenue\n",
    "top_product = df.groupby('Product')['Revenue'].sum().sort_values(ascending=False).head(1)\n",
    "print(\"\\nTop Selling Product by Revenue:\\n\", top_product)\n",
    "\n",
    "# Step 8: Group by Month and calculate total sales\n",
    "df['Order Date'] = pd.to_datetime(df['Order Date'])\n",
    "df['Month'] = df['Order Date'].dt.month\n",
    "monthly_sales = df.groupby('Month')['Revenue'].sum()\n",
    "print(\"\\nTotal Sales per Month:\\n\", monthly_sales)\n",
    "\n",
    "# Step 9: Sort data by highest revenue, show top 5\n",
    "top_revenue = df.sort_values(by='Revenue', ascending=False).head(5)\n",
    "print(\"\\nTop 5 Entries by Revenue:\\n\", top_revenue)\n",
    "\n",
    "# Step 10: Average revenue per product category\n",
    "avg_rev_category = df.groupby('Category')['Revenue'].mean()\n",
    "print(\"\\nAverage Revenue per Category:\\n\", avg_rev_category)\n",
    "\n",
    "# Step 11: Underperforming products (sales below ₹2000)\n",
    "underperformers = df[df['Revenue'] < 2000]\n",
    "print(\"\\nUnderperforming Products (Revenue < ₹2000):\\n\", underperformers)\n",
    "\n",
    "# Step 12: Save cleaned data\n",
    "df.to_csv('cleaned_sales_data.csv', index=False)\n",
    "print(\"\\nCleaned data saved to 'cleaned_sales_data.csv'.\")\n",
    "\n",
    "# Step 13: Describe key sales trends\n",
    "print(\"\\n--- Key Insights ---\")\n",
    "print(f\"Total Revenue: ₹{df['Revenue'].sum():,.2f}\")\n",
    "print(f\"Total Orders: {len(df)}\")\n",
    "print(f\"Top Product: {top_product.index[0]} with ₹{top_product.values[0]:,.2f} in revenue\")\n",
    "print(f\"Best Month (₹): {monthly_sales.idxmax()} with ₹{monthly_sales.max():,.2f}\")\n",
    "print(f\"Worst Month (₹): {monthly_sales.idxmin()} with ₹{monthly_sales.min():,.2f}\")\n"
   ]
  }
 ],
 "metadata": {
  "language_info": {
   "name": "python"
  }
 },
 "nbformat": 4,
 "nbformat_minor": 5
}
