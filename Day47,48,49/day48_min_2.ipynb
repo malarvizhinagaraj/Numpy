{
 "cells": [
  {
   "cell_type": "code",
   "execution_count": null,
   "id": "26e61baf",
   "metadata": {
    "vscode": {
     "languageId": "plaintext"
    }
   },
   "outputs": [],
   "source": []
  },
  {
   "cell_type": "code",
   "execution_count": null,
   "id": "e9d9e4b9",
   "metadata": {
    "vscode": {
     "languageId": "plaintext"
    }
   },
   "outputs": [],
   "source": [
    "import pandas as pd\n",
    "\n",
    "\n",
    "df = pd.read_csv(\"patient_records.csv\")\n",
    "\n",
    "print(\"First 5 rows:\")\n",
    "print(df.head())\n",
    "print(\"\\nLast 5 rows:\")\n",
    "print(df.tail())\n",
    "\n",
    "\n",
    "selected_cols = df[[\"Patient_ID\", \"Age\", \"Blood_Pressure\", \"Disease\"]]\n",
    "print(\"\\nSelected columns:\")\n",
    "print(selected_cols.head())\n",
    "\n",
    "diabetes_patients = df[df[\"Disease\"] == \"Diabetes\"]\n",
    "print(\"\\nPatients with Diabetes:\")\n",
    "print(diabetes_patients)\n",
    "\n",
    "\n",
    "senior_patients = df[df[\"Age\"] > 60]\n",
    "print(\"\\nPatients older than 60:\")\n",
    "print(senior_patients)\n",
    "\n",
    "\n",
    "bp_range = df[df[\"Blood_Pressure\"].between(120, 140)]\n",
    "print(\"\\nPatients with Blood Pressure between 120 and 140:\")\n",
    "print(bp_range)\n",
    "\n",
    "cities_filtered = df[df[\"City\"].isin([\"Los Angeles\", \"Houston\"])]\n",
    "print(\"\\nPatients from Los Angeles or Houston:\")\n",
    "print(cities_filtered)\n",
    "\n",
    "# (Assuming Patient_ID is unique and exists in the dataset)\n",
    "specific_patient = df.loc[df[\"Patient_ID\"] == 105]  # Replace 105 with actual ID\n",
    "print(\"\\nDetails of patient with Patient_ID = 105:\")\n",
    "print(specific_patient)\n",
    "\n",
    "\n",
    "row_range = df.iloc[10:21]\n",
    "print(\"\\nRows 10 to 20:\")\n",
    "print(row_range)\n",
    "\n",
    "\n",
    "df_indexed = df.set_index(\"Patient_ID\")\n",
    "print(\"\\nDataFrame with Patient_ID as index:\")\n",
    "print(df_indexed.head())\n",
    "\n",
    "df_reset = df_indexed.reset_index()\n",
    "print(\"\\nDataFrame after resetting index:\")\n",
    "print(df_reset.head())\n",
    "\n",
    "heart_patients = df[(df[\"Disease\"].str.contains(\"Heart\", case=False)) & (df[\"Age\"] > 50)]\n",
    "print(\"\\nPatients with heart-related issues and Age > 50:\")\n",
    "print(heart_patients)\n",
    "\n",
    "\n",
    "high_risk_cholesterol = df[(df[\"Cholesterol\"] > 200) & (df[\"Family_History\"] == \"Yes\")]\n",
    "print(\"\\nPatients with Cholesterol > 200 and Family History of heart disease:\")\n",
    "print(high_risk_cholesterol)\n"
   ]
  }
 ],
 "metadata": {
  "language_info": {
   "name": "python"
  }
 },
 "nbformat": 4,
 "nbformat_minor": 5
}
