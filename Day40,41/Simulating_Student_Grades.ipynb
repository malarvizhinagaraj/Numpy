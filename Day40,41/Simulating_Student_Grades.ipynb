{
 "cells": [
  {
   "cell_type": "code",
   "execution_count": null,
   "id": "717e964d",
   "metadata": {},
   "outputs": [],
   "source": [
    "#Day41 Simulating Student Grades\n",
    "import numpy as np\n",
    "\n",
    "# 1. Create a 5x4 array with all grades initialized to 0\n",
    "grades = np.zeros((5, 4), dtype=int)\n",
    "print(\"Initial Grades (All 0):\\n\", grades)\n",
    "\n",
    "# 2. Fill the array with random grades between 50 and 100\n",
    "grades = np.random.randint(50, 101, size=(5, 4))\n",
    "print(\"\\nRandom Grades (50–100):\\n\", grades)\n",
    "\n",
    "# 3. Create an array of maximum possible grades for each subject (assume max is 100)\n",
    "max_grades = np.full((1, 4), 100)\n",
    "print(\"\\nMaximum Possible Grades per Subject:\\n\", max_grades)\n",
    "\n",
    "# 4. Reshape the grades array to represent 2 semesters (10 students × 2 subjects)\n",
    "reshaped_grades = grades.reshape(10, 2)\n",
    "print(\"\\nReshaped Grades (10x2 for 2 Semesters):\\n\", reshaped_grades)\n",
    "\n",
    "# 5. Clone the grades array and simulate improvement by adding 5 to each grade\n",
    "improved_grades = grades.copy()\n",
    "improved_grades += 5\n",
    "# Make sure no grade exceeds 100\n",
    "improved_grades = np.clip(improved_grades, 0, 100)\n",
    "print(\"\\nImproved Grades (+5, capped at 100):\\n\", improved_grades)\n",
    "\n",
    "# 6. Extract and display:\n",
    "# - Grades of the second student (index 1)\n",
    "# - Grades for the third subject (index 2)\n",
    "second_student = grades[1]\n",
    "third_subject = grades[:, 2]\n",
    "\n",
    "print(\"\\nGrades of Second Student:\", second_student)\n",
    "print(\"Grades in Third Subject Across All Students:\", third_subject)\n"
   ]
  }
 ],
 "metadata": {
  "language_info": {
   "name": "python"
  }
 },
 "nbformat": 4,
 "nbformat_minor": 5
}
