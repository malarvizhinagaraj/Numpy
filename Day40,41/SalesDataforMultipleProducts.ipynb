{
 "cells": [
  {
   "cell_type": "code",
   "execution_count": null,
   "id": "b898a9ff",
   "metadata": {},
   "outputs": [],
   "source": [
    "#1. Create a 3x7 array using np.ones() to represent sales data for 3 products across 7 days. Initialize all sales to 1 unit.\n",
    "sales_data = np.ones((3, 7), dtype=int)\n",
    "\n",
    "#2. Modify the array to reflect more realistic sales data using np.random.randint(), with random sales numbers between 10 and 50.\n",
    "sales_data = np.random.randint(10, 51, size=(3, 7))\n",
    "\n",
    "#3. Use np.arange() to generate an array of days of the week (1 to 7) and reshape it into a 3x7 matrix to represent sales for 3 products.\n",
    "days = np.arange(1, 22).reshape(3, 7)\n",
    "\n",
    "#4. Use .ravel() and .flatten() to compare how the array of sales data looks when flattened into 1D.\n",
    "ravelled_sales = sales_data.ravel()\n",
    "flattened_sales = sales_data.flatten()\n",
    "\n",
    "#5. Clone the sales data array using the copy() method and modify the clone to simulate a discount and a boost in sales for all products.\n",
    "sales_boosted = sales_data.copy()\n",
    "sales_boosted += 5\n",
    "\n",
    "#6. Slice the array to extract and display the sales data for the first 3 days of the week for all products (first three columns).\n",
    "first_three_days = sales_data[:, :3]\n"
   ]
  }
 ],
 "metadata": {
  "language_info": {
   "name": "python"
  }
 },
 "nbformat": 4,
 "nbformat_minor": 5
}
