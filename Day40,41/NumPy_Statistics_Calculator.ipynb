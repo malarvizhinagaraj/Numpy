{
 "cells": [
  {
   "cell_type": "code",
   "execution_count": null,
   "id": "6a84c493",
   "metadata": {},
   "outputs": [],
   "source": [
    "#Day 40 min 2 NumPy Statistics Calculator\n",
    "import numpy as np\n",
    "\n",
    "#  Create a 1D NumPy array with at least 10 numerical values\n",
    "array = np.array([45, 78, 12, 90, 33, 67, 25, 84, 56, 39])\n",
    "print(\"Original Array:\\n\", array)\n",
    "\n",
    "# Calculate and display statistics\n",
    "mean = np.mean(array)\n",
    "median = np.median(array)\n",
    "std_dev = np.std(array)\n",
    "min_val = np.min(array)\n",
    "max_val = np.max(array)\n",
    "\n",
    "print(\"\\nMean:\", mean)\n",
    "print(\"Median:\", median)\n",
    "print(\"Standard Deviation:\", std_dev)\n",
    "print(\"Minimum Value:\", min_val)\n",
    "print(\"Maximum Value:\", max_val)\n",
    "\n",
    "#Slice first 5 elements and calculate their average\n",
    "first_five = array[:5]\n",
    "average_first_five = np.mean(first_five)\n",
    "\n",
    "print(\"\\nFirst 5 Elements:\", first_five)\n",
    "print(\"Average of First 5 Elements:\", average_first_five)\n"
   ]
  },
  {
   "cell_type": "code",
   "execution_count": null,
   "id": "5b91b4e4",
   "metadata": {},
   "outputs": [],
   "source": []
  }
 ],
 "metadata": {
  "language_info": {
   "name": "python"
  }
 },
 "nbformat": 4,
 "nbformat_minor": 5
}
