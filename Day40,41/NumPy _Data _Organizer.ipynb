{
 "cells": [
  {
   "cell_type": "code",
   "execution_count": null,
   "id": "ef4eb184",
   "metadata": {},
   "outputs": [
    {
     "name": "stdout",
     "output_type": "stream",
     "text": [
      "Requirement already satisfied: numpy in /Library/Frameworks/Python.framework/Versions/3.13/lib/python3.13/site-packages (2.3.2)\n",
      "1D Array:\n",
      " [ 50  35   3  94  36  72  13  97  82 100  42  66]\n",
      "\n",
      "2D Array (4x3):\n",
      " [[ 50  35   3]\n",
      " [ 94  36  72]\n",
      " [ 13  97  82]\n",
      " [100  42  66]]\n",
      "\n",
      "Second row: [94 36 72]\n",
      "First column: [ 50  94  13 100]\n",
      "Last two elements of last row: [42 66]\n",
      "\n",
      "Array Shape: (4, 3)\n",
      "Array Size: 12\n",
      "Array Data Type: int64\n"
     ]
    }
   ],
   "source": [
    "#Day 40 mini project 1\n",
    "!pip install numpy\n",
    "\n",
    "import numpy as np\n",
    "\n",
    "# Create a 1D NumPy array with 12 random integers between 1 and 100\n",
    "array_1d = np.random.randint(1, 101, size=12)\n",
    "print(\"1D Array:\\n\", array_1d)\n",
    "\n",
    "# Reshape the 1D array into a 4x3 matrix\n",
    "array_2d = array_1d.reshape(4, 3)\n",
    "print(\"\\n2D Array (4x3):\\n\", array_2d)\n",
    "\n",
    "# Extract the second row (index 1)\n",
    "second_row = array_2d[1]\n",
    "print(\"\\nSecond row:\", second_row)\n",
    "\n",
    "# Extract the first column \n",
    "first_column = array_2d[:,0]\n",
    "print(\"First column:\", first_column)\n",
    "\n",
    "# Extract the last two elements from the last row\n",
    "last_two = array_2d[-1, -2:]\n",
    "print(\"Last two elements of last row:\", last_two)\n",
    "\n",
    "# Print shape, size, and data type of the array\n",
    "print(\"\\nArray Shape:\", array_2d.shape)\n",
    "print(\"Array Size:\", array_2d.size)\n",
    "print(\"Array Data Type:\", array_2d.dtype)\n",
    "\n"
   ]
  },
  {
   "cell_type": "code",
   "execution_count": null,
   "id": "1a9f3b32",
   "metadata": {},
   "outputs": [],
   "source": []
  }
 ],
 "metadata": {
  "kernelspec": {
   "display_name": "Python 3",
   "language": "python",
   "name": "python3"
  },
  "language_info": {
   "codemirror_mode": {
    "name": "ipython",
    "version": 3
   },
   "file_extension": ".py",
   "mimetype": "text/x-python",
   "name": "python",
   "nbconvert_exporter": "python",
   "pygments_lexer": "ipython3",
   "version": "3.13.0"
  }
 },
 "nbformat": 4,
 "nbformat_minor": 5
}
