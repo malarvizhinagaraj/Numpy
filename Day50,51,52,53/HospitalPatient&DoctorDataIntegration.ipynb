{
 "cells": [
  {
   "cell_type": "code",
   "execution_count": null,
   "id": "4635b1e3",
   "metadata": {},
   "outputs": [],
   "source": [
    "import pandas as pd\n",
    "# Patient Details\n",
    "patients = pd.DataFrame({\n",
    "    'PatientID': [1, 2, 3],\n",
    "    'Name': ['Alice', 'Bob', 'Charlie'],\n",
    "    'Age': [30, 45, 25],\n",
    "    'Diagnosis': ['Flu', 'Diabetes', 'Asthma']\n",
    "})\n",
    "\n",
    "# Doctor Information\n",
    "doctors = pd.DataFrame({\n",
    "    'DoctorID': [101, 102],\n",
    "    'DoctorName': ['Dr. Smith', 'Dr. Jones'],\n",
    "    'Specialization': ['General', 'Endocrinologist']\n",
    "})\n",
    "\n",
    "# Appointment Records\n",
    "appointments = pd.DataFrame({\n",
    "    'PatientID': [1, 2, 2, 3],\n",
    "    'DoctorID': [101, 101, 102, 102],\n",
    "    'Date': ['2025-08-01', '2025-08-02', '2025-08-03', '2025-08-04'],\n",
    "    'Prescription': ['MedA', 'MedB', 'Insulin', 'Inhaler']\n",
    "})\n",
    "# Merge appointments with patient details on PatientID\n",
    "patient_appointments = pd.merge(appointments, patients, on='PatientID', how='left')\n",
    "\n",
    "# Merge patient_appointments with doctor data\n",
    "full_data = pd.merge(patient_appointments, doctors, on='DoctorID', how='left')\n",
    "\n",
    "\n",
    "# New patient registrations\n",
    "new_patients = pd.DataFrame({\n",
    "    'PatientID': [4],\n",
    "    'Name': ['David'],\n",
    "    'Age': [33],\n",
    "    'Diagnosis': ['Cold']\n",
    "})\n",
    "\n",
    "# Concatenate new patients to original patient list\n",
    "patients_updated = pd.concat([patients, new_patients], ignore_index=True)\n",
    "\n",
    "# Generate a structured report of patient visits\n",
    "report = full_data[['PatientID', 'Name', 'Age', 'Diagnosis', 'DoctorName', 'Specialization', 'Date', 'Prescription']]\n",
    "\n",
    "print(\"📄 Final Structured Medical Report:\\n\")\n",
    "print(report)\n"
   ]
  },
  {
   "cell_type": "code",
   "execution_count": null,
   "id": "14d04847",
   "metadata": {},
   "outputs": [],
   "source": []
  }
 ],
 "metadata": {
  "kernelspec": {
   "display_name": "Python 3",
   "language": "python",
   "name": "python3"
  },
  "language_info": {
   "name": "python",
   "version": "2.7.16"
  }
 },
 "nbformat": 4,
 "nbformat_minor": 5
}
