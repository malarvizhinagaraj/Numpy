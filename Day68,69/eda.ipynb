{
 "cells": [
  {
   "cell_type": "code",
   "execution_count": 7,
   "id": "10aed131",
   "metadata": {},
   "outputs": [
    {
     "name": "stdout",
     "output_type": "stream",
     "text": [
      "Requirement already satisfied: scikit-learn in c:\\users\\hp\\appdata\\local\\programs\\python\\python312\\lib\\site-packages (1.7.1)\n",
      "Requirement already satisfied: imbalanced-learn in c:\\users\\hp\\appdata\\local\\programs\\python\\python312\\lib\\site-packages (0.14.0)\n",
      "Requirement already satisfied: matplotlib in c:\\users\\hp\\appdata\\local\\programs\\python\\python312\\lib\\site-packages (3.10.5)\n",
      "Requirement already satisfied: pandas in c:\\users\\hp\\appdata\\local\\programs\\python\\python312\\lib\\site-packages (2.3.1)\n",
      "Requirement already satisfied: numpy in c:\\users\\hp\\appdata\\local\\programs\\python\\python312\\lib\\site-packages (2.3.2)\n",
      "Requirement already satisfied: scipy>=1.8.0 in c:\\users\\hp\\appdata\\local\\programs\\python\\python312\\lib\\site-packages (from scikit-learn) (1.15.2)\n",
      "Requirement already satisfied: joblib>=1.2.0 in c:\\users\\hp\\appdata\\local\\programs\\python\\python312\\lib\\site-packages (from scikit-learn) (1.4.2)\n",
      "Requirement already satisfied: threadpoolctl>=3.1.0 in c:\\users\\hp\\appdata\\local\\programs\\python\\python312\\lib\\site-packages (from scikit-learn) (3.6.0)\n",
      "Requirement already satisfied: contourpy>=1.0.1 in c:\\users\\hp\\appdata\\local\\programs\\python\\python312\\lib\\site-packages (from matplotlib) (1.3.2)\n",
      "Requirement already satisfied: cycler>=0.10 in c:\\users\\hp\\appdata\\local\\programs\\python\\python312\\lib\\site-packages (from matplotlib) (0.12.1)\n",
      "Requirement already satisfied: fonttools>=4.22.0 in c:\\users\\hp\\appdata\\local\\programs\\python\\python312\\lib\\site-packages (from matplotlib) (4.57.0)\n",
      "Requirement already satisfied: kiwisolver>=1.3.1 in c:\\users\\hp\\appdata\\local\\programs\\python\\python312\\lib\\site-packages (from matplotlib) (1.4.8)\n",
      "Requirement already satisfied: packaging>=20.0 in c:\\users\\hp\\appdata\\local\\programs\\python\\python312\\lib\\site-packages (from matplotlib) (25.0)\n",
      "Requirement already satisfied: pillow>=8 in c:\\users\\hp\\appdata\\local\\programs\\python\\python312\\lib\\site-packages (from matplotlib) (11.2.1)\n",
      "Requirement already satisfied: pyparsing>=2.3.1 in c:\\users\\hp\\appdata\\local\\programs\\python\\python312\\lib\\site-packages (from matplotlib) (3.2.3)\n",
      "Requirement already satisfied: python-dateutil>=2.7 in c:\\users\\hp\\appdata\\local\\programs\\python\\python312\\lib\\site-packages (from matplotlib) (2.9.0.post0)\n",
      "Requirement already satisfied: pytz>=2020.1 in c:\\users\\hp\\appdata\\local\\programs\\python\\python312\\lib\\site-packages (from pandas) (2025.2)\n",
      "Requirement already satisfied: tzdata>=2022.7 in c:\\users\\hp\\appdata\\local\\programs\\python\\python312\\lib\\site-packages (from pandas) (2025.2)\n",
      "Requirement already satisfied: six>=1.5 in c:\\users\\hp\\appdata\\local\\programs\\python\\python312\\lib\\site-packages (from python-dateutil>=2.7->matplotlib) (1.17.0)\n"
     ]
    },
    {
     "name": "stderr",
     "output_type": "stream",
     "text": [
      "\n",
      "[notice] A new release of pip is available: 25.1.1 -> 25.2\n",
      "[notice] To update, run: python.exe -m pip install --upgrade pip\n"
     ]
    }
   ],
   "source": [
    "!pip install -U scikit-learn imbalanced-learn matplotlib pandas numpy\n",
    "import numpy as np\n",
    "import pandas as pd\n",
    "\n",
    "\n",
    "import matplotlib.pyplot as plt\n",
    "\n",
    "from sklearn.model_selection import train_test_split, cross_val_score\n",
    "from sklearn.metrics import classification_report, roc_auc_score, RocCurveDisplay\n",
    "from sklearn.preprocessing import StandardScaler, OneHotEncoder\n",
    "from sklearn.compose import ColumnTransformer\n",
    "from sklearn.impute import SimpleImputer\n",
    "from sklearn.feature_selection import SelectKBest, f_classif, RFE\n",
    "from sklearn.decomposition import PCA\n",
    "from sklearn.discriminant_analysis import LinearDiscriminantAnalysis as LDA\n",
    "from sklearn.linear_model import LogisticRegression\n",
    "from sklearn.ensemble import RandomForestClassifier\n",
    "\n",
    "from imblearn.over_sampling import SMOTE\n",
    "from imblearn.pipeline import Pipeline  \n",
    "\n",
    "pd.set_option('display.max_columns', 100)\n"
   ]
  },
  {
   "cell_type": "code",
   "execution_count": 8,
   "id": "bbfd0882",
   "metadata": {},
   "outputs": [
    {
     "ename": "SyntaxError",
     "evalue": "(unicode error) 'unicodeescape' codec can't decode bytes in position 2-3: truncated \\UXXXXXXXX escape (3310919775.py, line 1)",
     "output_type": "error",
     "traceback": [
      "  \u001b[36mCell\u001b[39m\u001b[36m \u001b[39m\u001b[32mIn[8]\u001b[39m\u001b[32m, line 1\u001b[39m\n\u001b[31m    \u001b[39m\u001b[31mdf = pd.read_csv(\"C:\\Users\\HP\\OneDrive\\Desktop\\Python\\Day68,69\\your_loan_dataset.csv\")\u001b[39m\n                     ^\n\u001b[31mSyntaxError\u001b[39m\u001b[31m:\u001b[39m (unicode error) 'unicodeescape' codec can't decode bytes in position 2-3: truncated \\UXXXXXXXX escape\n"
     ]
    }
   ],
   "source": [
    "df = pd.read_csv(\"C:\\Users\\HP\\OneDrive\\Desktop\\Python\\Day68,69\\your_loan_dataset.csv\")\n",
    "\n",
    "\n",
    "target_col = \"default\"\n",
    "df[target_col] = df[target_col].map({'No':0,'Yes':1}) if df[target_col].dtype=='O' else df[target_col].astype(int)\n",
    "\n",
    "display(df.head())\n",
    "print(df[target_col].value_counts(normalize=True).round(3))\n",
    "print(df.isna().mean().sort_values(ascending=False).head(10)) \n"
   ]
  },
  {
   "cell_type": "code",
   "execution_count": null,
   "id": "3cc49042",
   "metadata": {},
   "outputs": [
    {
     "name": "stdout",
     "output_type": "stream",
     "text": [
      "Numeric: ['income', 'loan_amount', 'age', 'dependents']\n",
      "Categorical: ['customer_id', 'employment_type', 'credit_history', 'marital_status']\n"
     ]
    }
   ],
   "source": [
    "num_cols = df.select_dtypes(include=[np.number]).columns.drop(target_col)\n",
    "cat_cols = df.select_dtypes(exclude=[np.number]).columns\n",
    "print(\"Numeric:\", list(num_cols))\n",
    "print(\"Categorical:\", list(cat_cols))\n",
    "\n",
    "from sklearn.compose import ColumnTransformer\n",
    "\n",
    "\n",
    "num_cols = df.select_dtypes(include=[\"int64\",\"float64\"]).columns.drop(\"default\")  \n",
    "cat_cols = df.select_dtypes(include=[\"object\"]).columns  \n",
    "\n",
    "\n",
    "preprocess = ColumnTransformer(\n",
    "    transformers=[(\"num\", num_pre, num_cols),(\"cat\", cat_pre, cat_cols)\n",
    "    ],\n",
    "    remainder=\"drop\"   # drops unused columns like IDs\n",
    ")\n",
    "\n"
   ]
  },
  {
   "cell_type": "code",
   "execution_count": 11,
   "id": "d4ac182f",
   "metadata": {},
   "outputs": [],
   "source": [
    "X = df.drop(columns=[target_col])\n",
    "y = df[target_col].values\n",
    "\n",
    "X_train, X_test, y_train, y_test = train_test_split(\n",
    "    X, y, test_size=0.2, stratify=y, random_state=42\n",
    ")\n"
   ]
  },
  {
   "cell_type": "code",
   "execution_count": null,
   "id": "e65d9845",
   "metadata": {},
   "outputs": [
    {
     "ename": "TypeError",
     "evalue": "OneHotEncoder.__init__() got an unexpected keyword argument 'sparse'",
     "output_type": "error",
     "traceback": [
      "\u001b[31m---------------------------------------------------------------------------\u001b[39m",
      "\u001b[31mTypeError\u001b[39m                                 Traceback (most recent call last)",
      "\u001b[36mCell\u001b[39m\u001b[36m \u001b[39m\u001b[32mIn[14]\u001b[39m\u001b[32m, line 8\u001b[39m\n\u001b[32m      1\u001b[39m num_pre = Pipeline(steps=[\n\u001b[32m      2\u001b[39m     (\u001b[33m\"\u001b[39m\u001b[33mimputer\u001b[39m\u001b[33m\"\u001b[39m, SimpleImputer(strategy=\u001b[33m\"\u001b[39m\u001b[33mmedian\u001b[39m\u001b[33m\"\u001b[39m)),\n\u001b[32m      3\u001b[39m     (\u001b[33m\"\u001b[39m\u001b[33mscaler\u001b[39m\u001b[33m\"\u001b[39m, StandardScaler())\n\u001b[32m      4\u001b[39m ])\n\u001b[32m      6\u001b[39m cat_pre = Pipeline(steps=[\n\u001b[32m      7\u001b[39m     (\u001b[33m\"\u001b[39m\u001b[33mimputer\u001b[39m\u001b[33m\"\u001b[39m, SimpleImputer(strategy=\u001b[33m\"\u001b[39m\u001b[33mmost_frequent\u001b[39m\u001b[33m\"\u001b[39m)),\n\u001b[32m----> \u001b[39m\u001b[32m8\u001b[39m     (\u001b[33m\"\u001b[39m\u001b[33mohe\u001b[39m\u001b[33m\"\u001b[39m, \u001b[43mOneHotEncoder\u001b[49m\u001b[43m(\u001b[49m\u001b[43mhandle_unknown\u001b[49m\u001b[43m=\u001b[49m\u001b[33;43m\"\u001b[39;49m\u001b[33;43mignore\u001b[39;49m\u001b[33;43m\"\u001b[39;49m\u001b[43m,\u001b[49m\u001b[43m \u001b[49m\u001b[43msparse\u001b[49m\u001b[43m=\u001b[49m\u001b[38;5;28;43;01mFalse\u001b[39;49;00m\u001b[43m)\u001b[49m)\n\u001b[32m      9\u001b[39m ])\n\u001b[32m     11\u001b[39m preprocess = ColumnTransformer(\n\u001b[32m     12\u001b[39m     transformers=[\n\u001b[32m     13\u001b[39m         (\u001b[33m\"\u001b[39m\u001b[33mnum\u001b[39m\u001b[33m\"\u001b[39m, num_pre, num_cols),\n\u001b[32m   (...)\u001b[39m\u001b[32m     16\u001b[39m     remainder=\u001b[33m\"\u001b[39m\u001b[33mdrop\u001b[39m\u001b[33m\"\u001b[39m\n\u001b[32m     17\u001b[39m )\n",
      "\u001b[31mTypeError\u001b[39m: OneHotEncoder.__init__() got an unexpected keyword argument 'sparse'"
     ]
    }
   ],
   "source": [
    "num_pre = Pipeline(steps=[\n",
    "    (\"imputer\", SimpleImputer(strategy=\"median\")),\n",
    "    (\"scaler\", StandardScaler())\n",
    "])\n",
    "\n",
    "cat_pre = Pipeline(steps=[\n",
    "    (\"imputer\", SimpleImputer(strategy=\"most_frequent\")),\n",
    "    (\"ohe\", OneHotEncoder(handle_unknown=\"ignore\", sparse=False))\n",
    "])\n",
    "\n",
    "preprocess = ColumnTransformer(\n",
    "    transformers=[\n",
    "        (\"num\", num_pre, num_cols),\n",
    "        (\"cat\", cat_pre, cat_cols)\n",
    "    ],\n",
    "    remainder=\"drop\"\n",
    ")\n"
   ]
  },
  {
   "cell_type": "code",
   "execution_count": null,
   "id": "07c79b0b",
   "metadata": {},
   "outputs": [
    {
     "ename": "NameError",
     "evalue": "name 'preprocess' is not defined",
     "output_type": "error",
     "traceback": [
      "\u001b[31m---------------------------------------------------------------------------\u001b[39m",
      "\u001b[31mNameError\u001b[39m                                 Traceback (most recent call last)",
      "\u001b[36mCell\u001b[39m\u001b[36m \u001b[39m\u001b[32mIn[15]\u001b[39m\u001b[32m, line 4\u001b[39m\n\u001b[32m      1\u001b[39m rfe_estimator = RandomForestClassifier(n_estimators=\u001b[32m300\u001b[39m, random_state=\u001b[32m42\u001b[39m, n_jobs=-\u001b[32m1\u001b[39m)\n\u001b[32m      3\u001b[39m rfe_pipe = Pipeline(steps=[\n\u001b[32m----> \u001b[39m\u001b[32m4\u001b[39m     (\u001b[33m\"\u001b[39m\u001b[33mpreprocess\u001b[39m\u001b[33m\"\u001b[39m, \u001b[43mpreprocess\u001b[49m),\n\u001b[32m      5\u001b[39m     (\u001b[33m\"\u001b[39m\u001b[33msmote\u001b[39m\u001b[33m\"\u001b[39m, SMOTE(random_state=\u001b[32m42\u001b[39m)),\n\u001b[32m      6\u001b[39m     (\u001b[33m\"\u001b[39m\u001b[33mrfe\u001b[39m\u001b[33m\"\u001b[39m, RFE(estimator=rfe_estimator, n_features_to_select=\u001b[32m25\u001b[39m, step=\u001b[32m0.1\u001b[39m)),\n\u001b[32m      7\u001b[39m     (\u001b[33m\"\u001b[39m\u001b[33mclf\u001b[39m\u001b[33m\"\u001b[39m, LogisticRegression(max_iter=\u001b[32m500\u001b[39m))\n\u001b[32m      8\u001b[39m ])\n\u001b[32m     10\u001b[39m rfe_pipe.fit(X_train, y_train)\n\u001b[32m     11\u001b[39m rfe_preds = rfe_pipe.predict(X_test)\n",
      "\u001b[31mNameError\u001b[39m: name 'preprocess' is not defined"
     ]
    }
   ],
   "source": [
    "\n",
    "rfe_estimator = RandomForestClassifier(n_estimators=300, random_state=42, n_jobs=-1)\n",
    "\n",
    "rfe_pipe = Pipeline(steps=[\n",
    "    (\"preprocess\", preprocess),\n",
    "    (\"smote\", SMOTE(random_state=42)),\n",
    "    (\"rfe\", RFE(estimator=rfe_estimator, n_features_to_select=25, step=0.1)),\n",
    "    (\"clf\", LogisticRegression(max_iter=500))\n",
    "])\n",
    "\n",
    "rfe_pipe.fit(X_train, y_train)\n",
    "rfe_preds = rfe_pipe.predict(X_test)\n",
    "rfe_probs = rfe_pipe.predict_proba(X_test)[:,1]\n",
    "\n",
    "print(\"=== RFE + Logistic Regression ===\")\n",
    "print(classification_report(y_test, rfe_preds, digits=3))\n",
    "print(\"ROC-AUC:\", roc_auc_score(y_test, rfe_probs).round(3))\n",
    "\n",
    "\n",
    "ohe2 = rfe_pipe.named_steps[\"preprocess\"].named_transformers_[\"cat\"].named_steps[\"ohe\"]\n",
    "cat_feature_names2 = ohe2.get_feature_names_out(cat_cols)\n",
    "all_feature_names2 = np.r_[num_feature_names, cat_feature_names2]\n",
    "\n",
    "rfe_mask = rfe_pipe.named_steps[\"rfe\"].get_support()\n",
    "print(\"Selected features (RFE):\", all_feature_names2[rfe_mask].tolist())\n"
   ]
  }
 ],
 "metadata": {
  "kernelspec": {
   "display_name": "Python 3",
   "language": "python",
   "name": "python3"
  },
  "language_info": {
   "codemirror_mode": {
    "name": "ipython",
    "version": 3
   },
   "file_extension": ".py",
   "mimetype": "text/x-python",
   "name": "python",
   "nbconvert_exporter": "python",
   "pygments_lexer": "ipython3",
   "version": "3.12.2"
  }
 },
 "nbformat": 4,
 "nbformat_minor": 5
}
