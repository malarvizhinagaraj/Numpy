{
 "cells": [
  {
   "cell_type": "code",
   "execution_count": null,
   "id": "f5aef033",
   "metadata": {},
   "outputs": [],
   "source": [
    "import numpy as np\n",
    "import matplotlib.pyplot as plt\n",
    "\n",
    "# Step 1: Generate random dataset of 1000 values\n",
    "data = np.random.randn(1000)  # Standard normal distribution (mean=0, std=1)\n",
    "\n",
    "# Step 2: Calculate statistical metrics\n",
    "mean = np.mean(data)\n",
    "std_dev = np.std(data)\n",
    "variance = np.var(data)\n",
    "percentile_25 = np.percentile(data, 25)\n",
    "percentile_50 = np.percentile(data, 50)\n",
    "percentile_75 = np.percentile(data, 75)\n",
    "\n",
    "# Print statistical metrics\n",
    "print(\"Statistical Metrics:\")\n",
    "print(f\"Mean: {mean:.4f}\")\n",
    "print(f\"Standard Deviation: {std_dev:.4f}\")\n",
    "print(f\"Variance: {variance:.4f}\")\n",
    "print(f\"25th Percentile: {percentile_25:.4f}\")\n",
    "print(f\"50th Percentile (Median): {percentile_50:.4f}\")\n",
    "print(f\"75th Percentile: {percentile_75:.4f}\")\n",
    "\n",
    "# Step 3: Plot histogram using np.histogram() and matplotlib\n",
    "hist_values, bin_edges = np.histogram(data, bins=30)\n",
    "plt.figure(figsize=(8, 5))\n",
    "plt.hist(data, bins=30, color='skyblue', edgecolor='black')\n",
    "plt.title(\"Histogram of Normally Distributed Data\")\n",
    "plt.xlabel(\"Value\")\n",
    "plt.ylabel(\"Frequency\")\n",
    "plt.grid(True)\n",
    "plt.show()\n",
    "\n",
    "# Step 4: Randomly select 100 values and analyze\n",
    "sample = np.random.choice(data, size=100, replace=False)\n",
    "sample_mean = np.mean(sample)\n",
    "sample_std = np.std(sample)\n",
    "\n",
    "print(\"\\nSample (100 Random Values) Metrics:\")\n",
    "print(f\"Sample Mean: {sample_mean:.4f}\")\n",
    "print(f\"Sample Standard Deviation: {sample_std:.4f}\")\n"
   ]
  }
 ],
 "metadata": {
  "language_info": {
   "name": "python"
  }
 },
 "nbformat": 4,
 "nbformat_minor": 5
}
