{
 "cells": [
  {
   "cell_type": "code",
   "execution_count": null,
   "id": "d40af006",
   "metadata": {},
   "outputs": [],
   "source": [
    "import numpy as np\n",
    "\n",
    "#  Generate random 3x3 matrix A and 3x1 vector b\n",
    "np.random.seed(0)  \n",
    "A = np.random.randint(1, 10, size=(3, 3))\n",
    "b = np.random.randint(1, 10, size=(3, 1))\n",
    "\n",
    "print(\"Coefficient Matrix A:\\n\", A)\n",
    "print(\"Constant Vector b:\\n\", b)\n",
    "\n",
    "# Solve the system A * x = b\n",
    "try:\n",
    "    x = np.linalg.solve(A, b)\n",
    "    print(\"Solution Vector x:\\n\", x)\n",
    "except np.linalg.LinAlgError as e:\n",
    "    print(\"Error solving linear system:\", e)\n",
    "    exit()\n",
    "\n",
    "#  Verify the solution\n",
    "b_calculated = np.matmul(A, x)\n",
    "print(\"Verification (A @ x):\\n\", b_calculated)\n",
    "\n",
    "# Check if close to original b\n",
    "if np.allclose(b, b_calculated):\n",
    "    print(\"✅ Solution verified: A @ x is approximately equal to b\")\n",
    "else:\n",
    "    print(\"❌ Verification failed: A @ x is not equal to b\")\n"
   ]
  }
 ],
 "metadata": {
  "language_info": {
   "name": "python"
  }
 },
 "nbformat": 4,
 "nbformat_minor": 5
}
